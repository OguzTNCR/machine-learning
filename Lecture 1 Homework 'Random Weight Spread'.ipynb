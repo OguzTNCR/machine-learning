{
 "cells": [
  {
   "cell_type": "markdown",
   "metadata": {},
   "source": [
    "I will try to visualize the neural network while I change its random weight's spread.\n",
    "This neural network won't have any hidden layer in order to obtain the results of changing random weight's spread."
   ]
  },
  {
   "cell_type": "code",
   "execution_count": 60,
   "metadata": {},
   "outputs": [],
   "source": [
    "import numpy as np\n",
    "import matplotlib.pyplot as plt"
   ]
  },
  {
   "cell_type": "code",
   "execution_count": 61,
   "metadata": {},
   "outputs": [
    {
     "data": {
      "text/plain": [
       "array([-0.81197574])"
      ]
     },
     "execution_count": 61,
     "metadata": {},
     "output_type": "execute_result"
    }
   ],
   "source": [
    "biases = np.random.uniform(low = -1, high = 1, size = 1)  # Generating bisases randomly\n",
    "# y_in = np.random.uniform(low = -5, high = 5, size = 20)   # generating the input array randomly\n",
    "#biases"
   ]
  },
  {
   "cell_type": "code",
   "execution_count": 62,
   "metadata": {},
   "outputs": [],
   "source": [
    "def random_weights(spread):   # Defining a function so I can change the spread of the random weights\n",
    "    weights = np.random.uniform(low = -spread, high = spread, size = 2)\n",
    "    return weights"
   ]
  },
  {
   "cell_type": "code",
   "execution_count": 63,
   "metadata": {},
   "outputs": [],
   "source": [
    "def apply_layer(y_in, w, b):    # Defining the function that applies weighted sum and feeds the result through sigmoid function\n",
    "    z = np.dot(w, y_in) + b\n",
    "    return (1 / (1 + np.exp(-z)))"
   ]
  },
  {
   "cell_type": "code",
   "execution_count": 64,
   "metadata": {},
   "outputs": [],
   "source": [
    "# weights = random_weights(10)\n",
    "# apply_layer(y_in, weights, biases)"
   ]
  },
  {
   "cell_type": "code",
   "execution_count": 65,
   "metadata": {},
   "outputs": [
    {
     "data": {
      "text/plain": [
       "array([[-0.1       , -0.1       ],\n",
       "       [-0.09949875, -0.1       ],\n",
       "       [-0.09899749, -0.1       ],\n",
       "       ...,\n",
       "       [ 0.09899749,  0.1       ],\n",
       "       [ 0.09949875,  0.1       ],\n",
       "       [ 0.1       ,  0.1       ]])"
      ]
     },
     "execution_count": 65,
     "metadata": {},
     "output_type": "execute_result"
    }
   ],
   "source": [
    "M = 400  # Mesh size\n",
    "batchSize = M ** 2\n",
    "y_in = np.zeros([batchSize, 2])\n",
    "v0, v1 = np.meshgrid(np.linspace(-0.1, 0.1, M), np.linspace(-0.1, 0.1, M))\n",
    "y_in[ : , 0] = v0.flatten()\n",
    "y_in[ : , 1] = v1.flatten()\n",
    "# np.shape(y_in)\n",
    "#y_in\n"
   ]
  },
  {
   "cell_type": "code",
   "execution_count": 66,
   "metadata": {},
   "outputs": [
    {
     "data": {
      "image/png": "[encoded data removed]",
      "text/plain": [
       "<Figure size 640x480 with 2 Axes>"
      ]
     },
     "metadata": {},
     "output_type": "display_data"
    }
   ],
   "source": [
    "weights = random_weights(1)\n",
    "y_out = np.zeros([batchSize, 2])\n",
    "for i in range(len(y_in)):\n",
    "    y_out[i] = apply_layer(weights, y_in[i], biases)\n",
    "y_out_2D = np.reshape(y_out[ : , 0], [M, M])\n",
    "y_out_2D\n",
    "plt.imshow(y_out,origin='lower',extent=(-0.5,0.5,-0.5,0.5))\n",
    "plt.colorbar()\n",
    "plt.show()"
   ]
  },
  {
   "cell_type": "code",
   "execution_count": null,
   "metadata": {},
   "outputs": [],
   "source": []
  }
 ],
 "metadata": {
  "kernelspec": {
   "display_name": "Python 3.8.5 64-bit",
   "language": "python",
   "name": "python3"
  },
  "language_info": {
   "codemirror_mode": {
    "name": "ipython",
    "version": 3
   },
   "file_extension": ".py",
   "mimetype": "text/x-python",
   "name": "python",
   "nbconvert_exporter": "python",
   "pygments_lexer": "ipython3",
   "version": "3.8.5"
  },
  "orig_nbformat": 4,
  "vscode": {
   "interpreter": {
    "hash": "4c1bb4c646da37a2bb17303adb9552ad74559de15c477677eeea613e7ac7a00a"
   }
  }
 },
 "nbformat": 4,
 "nbformat_minor": 2
}
