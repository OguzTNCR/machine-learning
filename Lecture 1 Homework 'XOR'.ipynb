{
 "cells": [
  {
   "cell_type": "code",
   "execution_count": 101,
   "id": "3723fca9",
   "metadata": {},
   "outputs": [],
   "source": [
    "import numpy as np"
   ]
  },
  {
   "cell_type": "code",
   "execution_count": 102,
   "id": "25ee0102",
   "metadata": {},
   "outputs": [],
   "source": [
    "def apply_net(w, y_in, b): # implementing weighted sum\n",
    "    z = np.dot(w, y_in) + b\n",
    "    result = (1 / (1 + np.exp(-z)))\n",
    "    if result < 0.5:\n",
    "        return 0\n",
    "    elif result > 0.5:\n",
    "        return 1"
   ]
  },
  {
   "cell_type": "code",
   "execution_count": 103,
   "id": "72c7015d",
   "metadata": {},
   "outputs": [
    {
     "data": {
      "text/plain": [
       "1"
      ]
     },
     "execution_count": 103,
     "metadata": {},
     "output_type": "execute_result"
    }
   ],
   "source": [
    "w_and = np.array([2, 2])   # Weights for AND gate\n",
    "b_and = np.array([-3])     # Biases for AND gate\n",
    "# These weihgts and biases are determined  manually\n",
    "y_in = np.array([1, 1]) # Testing AND gate\n",
    "apply_net(w_and, y_in, b_and)"
   ]
  },
  {
   "cell_type": "code",
   "execution_count": 104,
   "id": "dafe54c1",
   "metadata": {},
   "outputs": [
    {
     "data": {
      "text/plain": [
       "1"
      ]
     },
     "execution_count": 104,
     "metadata": {},
     "output_type": "execute_result"
    }
   ],
   "source": [
    "w_or = np.array([10, 10]) # Weights for OR gate\n",
    "b_or = np.array([-5])     # Biases for OR gate\n",
    "y_in = np.array([0, 1])   # Testing Or gate\n",
    "apply_net(w_or, y_in, b_or)"
   ]
  },
  {
   "cell_type": "code",
   "execution_count": 105,
   "id": "50ed9e3f",
   "metadata": {},
   "outputs": [
    {
     "data": {
      "text/plain": [
       "0"
      ]
     },
     "execution_count": 105,
     "metadata": {},
     "output_type": "execute_result"
    }
   ],
   "source": [
    "w_nor = np.array([-10, -10]) # Weights for NOR gate\n",
    "b_nor = np.array([5])     # Biases for NOR gate\n",
    "apply_net(w_nor, y_in, b_nor)  # Testing NOR gate"
   ]
  },
  {
   "cell_type": "code",
   "execution_count": 106,
   "id": "2ebefa1a",
   "metadata": {},
   "outputs": [],
   "source": [
    "# Next step is implementing an XOR gate\n",
    "# but XOR gate cannot be implemented with two layers just\n",
    "# since XOR(y1, y2) =NOR(NOR(y1, y2), AND(y1, y2))"
   ]
  },
  {
   "cell_type": "code",
   "execution_count": 109,
   "id": "249833a3",
   "metadata": {
    "scrolled": false
   },
   "outputs": [
    {
     "data": {
      "text/plain": [
       "1"
      ]
     },
     "execution_count": 109,
     "metadata": {},
     "output_type": "execute_result"
    }
   ],
   "source": [
    "def XOR_gate():\n",
    "    nor1 = apply_net(w_nor, y_in, b_nor)\n",
    "    and1 = apply_net(w_and, y_in, b_and)\n",
    "    y_in_new = np.array([nor1, and1])\n",
    "    return apply_net(w_nor, y_in_new, b_nor)\n",
    "XOR_gate()"
   ]
  }
 ],
 "metadata": {
  "kernelspec": {
   "display_name": "Python 3.8.5 64-bit",
   "language": "python",
   "name": "python3"
  },
  "language_info": {
   "codemirror_mode": {
    "name": "ipython",
    "version": 3
   },
   "file_extension": ".py",
   "mimetype": "text/x-python",
   "name": "python",
   "nbconvert_exporter": "python",
   "pygments_lexer": "ipython3",
   "version": "3.8.5"
  },
  "vscode": {
   "interpreter": {
    "hash": "4c1bb4c646da37a2bb17303adb9552ad74559de15c477677eeea613e7ac7a00a"
   }
  }
 },
 "nbformat": 4,
 "nbformat_minor": 5
}
